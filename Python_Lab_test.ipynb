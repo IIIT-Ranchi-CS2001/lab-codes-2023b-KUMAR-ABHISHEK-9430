{
 "cells": [
  {
   "cell_type": "markdown",
   "id": "1c440a75-4715-402c-bc37-6631599e000d",
   "metadata": {},
   "source": [
    "## Python Lab test\n"
   ]
  },
  {
   "cell_type": "code",
   "execution_count": 3,
   "id": "2e2e4a99-2348-4a16-878d-0bf551bbd831",
   "metadata": {},
   "outputs": [],
   "source": [
    "# Importing necessary libraries\n"
   ]
  },
  {
   "cell_type": "code",
   "execution_count": 2,
   "id": "32c36cc0-f832-4cb1-a844-b643d6a586a7",
   "metadata": {},
   "outputs": [],
   "source": [
    "import numpy as np\n",
    "import pandas as pd\n",
    "import matplotlib.pyplot as plt\n"
   ]
  },
  {
   "cell_type": "code",
   "execution_count": 4,
   "id": "f5dc88fd-05d8-4754-949c-b1daadb26707",
   "metadata": {},
   "outputs": [],
   "source": [
    "# Reading dataset\n",
    "df = pd.read_csv('AQI_Data.csv')"
   ]
  },
  {
   "cell_type": "code",
   "execution_count": 8,
   "id": "99210cb5-d8e7-4b29-9eaf-2f14818a2509",
   "metadata": {},
   "outputs": [
    {
     "name": "stdout",
     "output_type": "stream",
     "text": [
      "    City        Date  AQI  PM2.5  PM10        NO2        CO          O3  \\\n",
      "0  Delhi  2024-01-01  152    153   151  26.509131  1.581413  123.401530   \n",
      "1  Delhi  2024-01-02  264    288   268  87.955853  1.242119  144.533790   \n",
      "2  Delhi  2024-01-03  307    344   357  94.469744  0.101480  198.520196   \n",
      "3  Delhi  2024-01-04  363    334   347  12.075618  1.097072   85.973585   \n",
      "4  Delhi  2024-01-05  237    266   250  51.046299  1.591834   47.938019   \n",
      "5  Delhi  2024-01-06  369    321   327  64.679037  0.423996   22.359803   \n",
      "6  Delhi  2024-01-07  365    328   347  44.687485  0.130336   53.869827   \n",
      "7  Delhi  2024-01-08  493    513   526  54.565922  0.165338  182.770876   \n",
      "\n",
      "         SO2  \n",
      "0  25.062474  \n",
      "1   5.926302  \n",
      "2  32.786668  \n",
      "3   7.099955  \n",
      "4  28.140550  \n",
      "5  47.699849  \n",
      "6  15.846146  \n",
      "7  16.645099  \n"
     ]
    }
   ],
   "source": [
    "# Question 1\n",
    "# Displaying 1st 8 rows using head\n",
    "print(df.head(8))\n",
    "# Printing causes abnormalities in showing so it would be better to just write df.head(8)"
   ]
  },
  {
   "cell_type": "code",
   "execution_count": 9,
   "id": "631f4fb5-735f-48cc-89b5-fd55c4553777",
   "metadata": {},
   "outputs": [
    {
     "name": "stdout",
     "output_type": "stream",
     "text": [
      "      City        Date  AQI  PM2.5  PM10        NO2        CO          O3  \\\n",
      "2557  Pune  2024-12-27  419    448   462  26.701714  1.553582   86.973954   \n",
      "2558  Pune  2024-12-28  252    202   182  19.920962  1.599821   41.939484   \n",
      "2559  Pune  2024-12-29  365    414   410  80.815702  1.919950   39.982167   \n",
      "2560  Pune  2024-12-30  253    269   285  66.231614  0.611800   63.966705   \n",
      "2561  Pune  2024-12-31   95    140   117  99.505459  0.122817  112.774765   \n",
      "\n",
      "            SO2  \n",
      "2557  44.263423  \n",
      "2558  20.545087  \n",
      "2559  22.646297  \n",
      "2560  10.580135  \n",
      "2561  30.814997  \n"
     ]
    }
   ],
   "source": [
    "# Question 2\n",
    "# Displaying last 5 rows using tail\n",
    "print(df.tail())\n",
    "# no argument was passed as by default it will show 5 rows"
   ]
  },
  {
   "cell_type": "code",
   "execution_count": 10,
   "id": "ad2c3a4c-124a-46ff-ab37-ed72b006bc29",
   "metadata": {},
   "outputs": [
    {
     "name": "stdout",
     "output_type": "stream",
     "text": [
      "<class 'pandas.core.frame.DataFrame'>\n",
      "RangeIndex: 2562 entries, 0 to 2561\n",
      "Data columns (total 9 columns):\n",
      " #   Column  Non-Null Count  Dtype  \n",
      "---  ------  --------------  -----  \n",
      " 0   City    2562 non-null   object \n",
      " 1   Date    2562 non-null   object \n",
      " 2   AQI     2562 non-null   int64  \n",
      " 3   PM2.5   2562 non-null   int64  \n",
      " 4   PM10    2562 non-null   int64  \n",
      " 5   NO2     2562 non-null   float64\n",
      " 6   CO      2562 non-null   float64\n",
      " 7   O3      2562 non-null   float64\n",
      " 8   SO2     2562 non-null   float64\n",
      "dtypes: float64(4), int64(3), object(2)\n",
      "memory usage: 180.3+ KB\n",
      "None\n"
     ]
    }
   ],
   "source": [
    "# Question 3\n",
    "print(df.info())\n",
    "# info() will show overview of dataset i.e. all the data type and null values of dataset"
   ]
  },
  {
   "cell_type": "code",
   "execution_count": 15,
   "id": "e04e6419-7965-4027-acad-73816a4e8b9a",
   "metadata": {},
   "outputs": [
    {
     "name": "stdout",
     "output_type": "stream",
     "text": [
      "<pandas.core.groupby.generic.DataFrameGroupBy object at 0x0000013FE0765710>\n"
     ]
    }
   ],
   "source": [
    "#  Question 4\n",
    "# mean of AQI , max of PM2.5 and min of PM10\n",
    "df.groupby('City')"
   ]
  },
  {
   "cell_type": "code",
   "execution_count": 16,
   "id": "1cdb33d8-b981-4c44-ae6a-70c345b43963",
   "metadata": {},
   "outputs": [
    {
     "data": {
      "text/plain": [
       "array(['Delhi', 'Mumbai', 'Kolkata', 'Chennai', 'Bangalore', 'Hyderabad',\n",
       "       'Pune'], dtype=object)"
      ]
     },
     "execution_count": 16,
     "metadata": {},
     "output_type": "execute_result"
    }
   ],
   "source": [
    "df['City'].unique()"
   ]
  },
  {
   "cell_type": "code",
   "execution_count": 20,
   "id": "75ad4787-2ce5-4510-bb0e-b100057a5354",
   "metadata": {},
   "outputs": [],
   "source": [
    "city = df['City'].unique()\n",
    "# This will return all unique city names"
   ]
  },
  {
   "cell_type": "code",
   "execution_count": 21,
   "id": "c96babb5-a8a4-4db5-9b03-774728eb85fa",
   "metadata": {},
   "outputs": [
    {
     "data": {
      "text/plain": [
       "array(['Delhi', 'Mumbai', 'Kolkata', 'Chennai', 'Bangalore', 'Hyderabad',\n",
       "       'Pune'], dtype=object)"
      ]
     },
     "execution_count": 21,
     "metadata": {},
     "output_type": "execute_result"
    }
   ],
   "source": [
    "city"
   ]
  },
  {
   "cell_type": "code",
   "execution_count": 50,
   "id": "4a2386fe-a384-46bb-a3d6-8592a01f5360",
   "metadata": {},
   "outputs": [],
   "source": [
    "Delhi = df[df['City']=='Delhi']"
   ]
  },
  {
   "cell_type": "code",
   "execution_count": 25,
   "id": "ce93f80d-aba6-4279-ab6f-d8c0541e446a",
   "metadata": {},
   "outputs": [
    {
     "data": {
      "text/plain": [
       "279.1530054644809"
      ]
     },
     "execution_count": 25,
     "metadata": {},
     "output_type": "execute_result"
    }
   ],
   "source": [
    "Delhi['AQI'].mean()"
   ]
  },
  {
   "cell_type": "code",
   "execution_count": 26,
   "id": "d0dd7b25-fb80-4472-ad9e-02a616e09c33",
   "metadata": {},
   "outputs": [
    {
     "data": {
      "text/plain": [
       "539"
      ]
     },
     "execution_count": 26,
     "metadata": {},
     "output_type": "execute_result"
    }
   ],
   "source": [
    "Delhi['PM2.5'].max()"
   ]
  },
  {
   "cell_type": "code",
   "execution_count": 27,
   "id": "ad8441aa-5390-4e27-9708-f833669a2f83",
   "metadata": {},
   "outputs": [
    {
     "data": {
      "text/plain": [
       "-17"
      ]
     },
     "execution_count": 27,
     "metadata": {},
     "output_type": "execute_result"
    }
   ],
   "source": [
    "Delhi['PM10'].min()"
   ]
  },
  {
   "cell_type": "code",
   "execution_count": 62,
   "id": "85c857dd-1405-4319-9699-74475645df42",
   "metadata": {},
   "outputs": [],
   "source": [
    "# I am making different subdataset with only selected city and then finding required values"
   ]
  },
  {
   "cell_type": "code",
   "execution_count": 28,
   "id": "a92bf827-4133-49ab-8eb1-7b15be236764",
   "metadata": {},
   "outputs": [],
   "source": [
    "Mumbai = df[df['City']=='Mumbai']"
   ]
  },
  {
   "cell_type": "code",
   "execution_count": 30,
   "id": "2f13b53b-b0bb-42e2-897b-25175fd3c4fb",
   "metadata": {},
   "outputs": [
    {
     "name": "stdout",
     "output_type": "stream",
     "text": [
      "287.7978142076503\n",
      "519\n",
      "20\n"
     ]
    }
   ],
   "source": [
    "print(Mumbai['AQI'].mean())\n",
    "print(Mumbai['PM2.5'].max()"
   ]
  },
  {
   "cell_type": "code",
   "execution_count": 31,
   "id": "2af0afa9-403c-497b-8eeb-63d11429d27a",
   "metadata": {},
   "outputs": [],
   "source": [
    "Kolkata = df[df['City']=='Kolkata']"
   ]
  },
  {
   "cell_type": "code",
   "execution_count": 32,
   "id": "c8d87384-8215-4271-9136-8b05006ef649",
   "metadata": {},
   "outputs": [
    {
     "name": "stdout",
     "output_type": "stream",
     "text": [
      "265.9016393442623\n",
      "535\n",
      "-8\n"
     ]
    }
   ],
   "source": [
    "print(Kolkata['AQI'].mean())\n",
    "print(Kolkata['PM2.5'].max())\n",
    "print(Kolkata['PM10'].min())"
   ]
  },
  {
   "cell_type": "code",
   "execution_count": 33,
   "id": "71911b94-7a32-462b-8bdf-16c052de7321",
   "metadata": {},
   "outputs": [],
   "source": [
    "Chennai = df[df['City']=='Chennai']"
   ]
  },
  {
   "cell_type": "code",
   "execution_count": 35,
   "id": "d5ed182f-64b2-4496-9faa-537d4a0510a5",
   "metadata": {},
   "outputs": [
    {
     "name": "stdout",
     "output_type": "stream",
     "text": [
      "274.3142076502732\n",
      "530\n",
      "-26\n"
     ]
    }
   ],
   "source": [
    "print(Chennai['AQI'].mean())\n",
    "print(Chennai['PM2.5'].max())\n",
    "print(Chennai['PM10'].min())"
   ]
  },
  {
   "cell_type": "code",
   "execution_count": 38,
   "id": "ffdf0bd2-6de6-4d47-91f9-284f46603b22",
   "metadata": {},
   "outputs": [],
   "source": [
    "Banglore = df[df['City']=='Bangalore']"
   ]
  },
  {
   "cell_type": "code",
   "execution_count": 39,
   "id": "742e6ab3-3ad8-462c-83c8-9fe8481371e6",
   "metadata": {},
   "outputs": [
    {
     "name": "stdout",
     "output_type": "stream",
     "text": [
      "279.54371584699453\n",
      "527\n",
      "-1\n"
     ]
    }
   ],
   "source": [
    "print(Banglore['AQI'].mean())\n",
    "print(Banglore['PM2.5'].max())\n",
    "print(Banglore['PM10'].min())"
   ]
  },
  {
   "cell_type": "code",
   "execution_count": 40,
   "id": "ec0255c5-3d02-444a-bcf0-e16a3f6acbde",
   "metadata": {},
   "outputs": [],
   "source": [
    "Hyderabad = df[df['City']=='Hyderabad']"
   ]
  },
  {
   "cell_type": "code",
   "execution_count": 41,
   "id": "988d9ef9-739a-4203-bb03-0671a9438b03",
   "metadata": {},
   "outputs": [
    {
     "name": "stdout",
     "output_type": "stream",
     "text": [
      "280.3551912568306\n",
      "543\n",
      "15\n"
     ]
    }
   ],
   "source": [
    "print(Hyderabad['AQI'].mean())\n",
    "print(Hyderabad['PM2.5'].max())\n",
    "print(Hyderabad['PM10'].min())"
   ]
  },
  {
   "cell_type": "code",
   "execution_count": 42,
   "id": "7247bdc3-01c2-4613-94e0-69d66acb3a62",
   "metadata": {},
   "outputs": [],
   "source": [
    "pune = df[df['City']=='Pune']"
   ]
  },
  {
   "cell_type": "code",
   "execution_count": 43,
   "id": "f4a85f77-c8c0-4cad-b550-c370a4acee0f",
   "metadata": {},
   "outputs": [
    {
     "name": "stdout",
     "output_type": "stream",
     "text": [
      "276.379781420765\n",
      "532\n",
      "6\n"
     ]
    }
   ],
   "source": [
    "print(pune['AQI'].mean())\n",
    "print(pune['PM2.5'].max())\n",
    "print(pune['PM10'].min())"
   ]
  },
  {
   "cell_type": "code",
   "execution_count": 59,
   "id": "fc639c39-8db7-4aea-92ef-500304330e4b",
   "metadata": {},
   "outputs": [],
   "source": [
    "# Question 5\n",
    "# Pivot table\n",
    "pivot = pd.pivot_table(df,index = 'City' ,values = 'PM2.5',aggfunc = 'max')\n",
    "# To make pivot table I used pd.pivot_table with city as index and PM2.5 as values and max as agg func"
   ]
  },
  {
   "cell_type": "code",
   "execution_count": 61,
   "id": "81e5f6b3-b4cc-4c2e-9d93-aabb23e2aeda",
   "metadata": {},
   "outputs": [],
   "source": [
    "pivot.to_csv('Pivot table')\n",
    "# This will save pivot table in file named 'Pivot Table'."
   ]
  },
  {
   "cell_type": "code",
   "execution_count": null,
   "id": "59a5382d-c13d-499d-9408-c490824d1c3a",
   "metadata": {},
   "outputs": [],
   "source": []
  }
 ],
 "metadata": {
  "kernelspec": {
   "display_name": "Python 3 (ipykernel)",
   "language": "python",
   "name": "python3"
  },
  "language_info": {
   "codemirror_mode": {
    "name": "ipython",
    "version": 3
   },
   "file_extension": ".py",
   "mimetype": "text/x-python",
   "name": "python",
   "nbconvert_exporter": "python",
   "pygments_lexer": "ipython3",
   "version": "3.11.9"
  }
 },
 "nbformat": 4,
 "nbformat_minor": 5
}
